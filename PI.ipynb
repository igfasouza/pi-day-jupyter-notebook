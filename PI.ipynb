{
 "cells": [
  {
   "cell_type": "markdown",
   "metadata": {},
   "source": [
    "# Happy Pi Day 2020!\n",
    "\n",
    "Today is Pi Day 2020, the day celebrating the number π. \n",
    "For more details on this number, see this <a href=\"https://en.wikipedia.org/wiki/Pi\">Wikipedia page</a>.\n",
    "\n",
    "this is just some ideas/codes that I found ...\n",
    "\n",
    "### Two Ways to Calculate Pi:\n",
    "Real pi = 3.14159265359\n",
    "    \n",
    "### 1. percentage of unit square random points that lie in unit circle,\n",
    "This method is only as good as our random number generator. And with number of iterations the accuracy improves, up to about 1 million."
   ]
  },
  {
   "cell_type": "code",
   "execution_count": 41,
   "metadata": {},
   "outputs": [
    {
     "name": "stdout",
     "output_type": "stream",
     "text": [
      "3.141492\n"
     ]
    }
   ],
   "source": [
    "import random\n",
    "in_square = in_circle = pi = 0\n",
    "\n",
    "for i in range(10000000):\n",
    "    x = random.random()\n",
    "    y = random.random()\n",
    "    dist = (x*x + y*y) ** 0.5\n",
    "\n",
    "    in_square += 1\n",
    "    if dist <= 1.0:\n",
    "        in_circle += 1\n",
    "            \n",
    "pi = 4 * in_circle / in_square\n",
    "print(pi)"
   ]
  },
  {
   "cell_type": "markdown",
   "metadata": {},
   "source": [
    "\n",
    "### 2. using series addition\n",
    "\n",
    "pi = 4/1 - 4/3 + 4/5 - 4/7 + 4/9 - 4/11 + 4/13 - 4/15 ...\n",
    "This method is the more accurate of the two, and is faster. Its accuracy only depends on the size of n.\n"
   ]
  },
  {
   "cell_type": "code",
   "execution_count": 42,
   "metadata": {},
   "outputs": [
    {
     "name": "stdout",
     "output_type": "stream",
     "text": [
      "3.1415924535897797\n"
     ]
    }
   ],
   "source": [
    "pi = 0.0\n",
    "for i in range(1, 10000000, 4):\n",
    "    pi += 4/i\n",
    "    pi -= 4/(i+2)\n",
    "print(pi)"
   ]
  },
  {
   "cell_type": "markdown",
   "metadata": {},
   "source": [
    "## Two simple methods for finding the first digits of π\n",
    "\n",
    "### Fraction approximations, and π imported from the math module\n",
    "\n",
    "Three approximations, using fractions, were known from a very long time (Aristote used 355113\n",
    "!). The first three approximations of pi are:"
   ]
  },
  {
   "cell_type": "code",
   "execution_count": 52,
   "metadata": {},
   "outputs": [
    {
     "name": "stdout",
     "output_type": "stream",
     "text": [
      " pi ~= 3.14 (two first digits).\n",
      " pi ~= 22/7 = 3.142857142857143 (two first digits).\n",
      " pi ~= 355/113 = 3.1415929203539825 (six first digits).\n"
     ]
    }
   ],
   "source": [
    "print(\" pi ~= 3.14 (two first digits).\")\n",
    "print(\" pi ~= 22/7 = {} (two first digits).\".format(22.0 / 7.0))\n",
    "print(\" pi ~= 355/113 = {} (six first digits).\".format(355.0 / 113.0))"
   ]
  },
  {
   "cell_type": "markdown",
   "metadata": {},
   "source": [
    "This method is extremely limited, and will not give you more than 13 correct digits, as math.pi is stored as a float number (limited precision)."
   ]
  },
  {
   "cell_type": "code",
   "execution_count": 43,
   "metadata": {},
   "outputs": [
    {
     "name": "stdout",
     "output_type": "stream",
     "text": [
      "First method: using math.pi gives pi ~= 3.14159265358979312 (17 digits are displayed here).\n"
     ]
    }
   ],
   "source": [
    "def mathpi():\n",
    "    from math import pi\n",
    "    return pi\n",
    "\n",
    "print(\"First method: using math.pi gives pi ~= {:.17f} (17 digits are displayed here).\".format(mathpi()))"
   ]
  },
  {
   "cell_type": "markdown",
   "metadata": {},
   "source": [
    "If we know the digits, we can directly print them:"
   ]
  },
  {
   "cell_type": "code",
   "execution_count": 44,
   "metadata": {},
   "outputs": [
    {
     "name": "stdout",
     "output_type": "stream",
     "text": [
      "The first 100 digits of pi are 3.1415926535897932384626433832795028841971693993751058209749445923078164062862089986280348253421170679.\n"
     ]
    }
   ],
   "source": [
    "from decimal import Decimal\n",
    "bigpi = Decimal('3.1415926535897932384626433832795028841971693993751058209749445923078164062862089986280348253421170679')\n",
    "print(\"The first 100 digits of pi are {}.\".format(bigpi))"
   ]
  },
  {
   "cell_type": "markdown",
   "metadata": {},
   "source": [
    "## A simple Monte-Carlo method\n",
    "<a href=\"https://en.wikipedia.org/wiki/Pi#Monte_Carlo_methods\">here</a>\n",
    "\n",
    "A simple Monte Carlo method for computing π is to draw a circle inscribed in a square, and randomly place dots in the square. The ratio of dots inside the circle to the total number of dots will approximately equal π/4, which is also the ratio of the area of the circle by the area of the square:"
   ]
  },
  {
   "cell_type": "code",
   "execution_count": 55,
   "metadata": {},
   "outputs": [],
   "source": [
    "from random import uniform\n",
    "\n",
    "def montecarlo_pi(nbPoints=10000):\n",
    "    \"\"\"Returns a probabilist estimate of pi, as a float number.\"\"\"\n",
    "    nbInside = 0\n",
    "    # we pick a certain number of points (nbPoints)\n",
    "    for i in range(nbPoints):\n",
    "        x = uniform(0, 1)\n",
    "        y = uniform(0, 1)\n",
    "        # (x, y) is now a random point in the square [0, 1] × [0, 1]\n",
    "        if (x**2 + y**2) < 1:\n",
    "            # This point (x, y) is inside the circle C(0, 1)\n",
    "            nbInside += 1\n",
    "\n",
    "    return 4 * float(nbInside) / float(nbPoints)"
   ]
  },
  {
   "cell_type": "code",
   "execution_count": 46,
   "metadata": {},
   "outputs": [
    {
     "name": "stdout",
     "output_type": "stream",
     "text": [
      "The simple Monte-Carlo method with 10000 random points gave pi = 3.1184\n"
     ]
    }
   ],
   "source": [
    "print(\"The simple Monte-Carlo method with {} random points gave pi = {}\".format(10000, montecarlo_pi(10000)))"
   ]
  },
  {
   "cell_type": "markdown",
   "metadata": {},
   "source": [
    "It is an interesting method, but it is just too limited for approximating digits of π.\n",
    "\n",
    "### Using mpmath\n",
    "\n",
    "This is a simple and lazy method, using the mpmath module. MPmath is a Python library for arbitrary-precision floating-point arithmetic (Multi-Precision), and it has a builtin highly-optimized algorithm to compute digits of π.\n",
    "\n",
    "It works really fine up-to 1000000 digits (56 ms), from 1 million digits to be printed, printing them starts to get too time consuming (the IDE or the system might freeze).\n",
    "\n",
    "<a href=\"http://mpmath.org/\">here</a>"
   ]
  },
  {
   "cell_type": "code",
   "execution_count": 47,
   "metadata": {},
   "outputs": [],
   "source": [
    "import mpmath\n",
    "# from sympy import mpmath  # on older sympy versions\n",
    "mp = mpmath.mp"
   ]
  },
  {
   "cell_type": "code",
   "execution_count": 48,
   "metadata": {},
   "outputs": [
    {
     "name": "stdout",
     "output_type": "stream",
     "text": [
      "A lazy method using the mpmath module:\n",
      "pi is approximatly 3.141592653589793238462643383279502884197169399375105820974944592307816406286208998628034825342117067982148086513282306647093844609550582231725359408128481117450284102701938521105559644622948954930381964428810975665933446128475648233786783165271201909145648566923460348610454326648213393607260249141273724587006606315588174881520920962829254091715364367892590360011330530548820466521384146951941511609433057270365759591953092186117381932611793105118548074462379962749567351885752724891227938183011949129833673362440656643086021394946395224737190702179860943702770539217176293176752384674818467669405132000568127145263560827785771342757789609173637178721468440901224953430146549585371050792279689258923542019956112129021960864034418159813629774771309960518707211349999998372978049951059731732816096318595024459455346908302642522308253344685035261931188171010003137838752886587533208381420617177669147303598253490428755468731159562863882353787593751957781857780532171226806613001927876611195909216420199 (with 1000 digits).\n"
     ]
    }
   ],
   "source": [
    "mp.dps = 1000  # number of digits\n",
    "my_pi = mp.pi  # Gives pi to a thousand places\n",
    "print(\"A lazy method using the mpmath module:\\npi is approximatly {} (with {} digits).\".format(my_pi, mp.dps))"
   ]
  },
  {
   "cell_type": "code",
   "execution_count": 49,
   "metadata": {},
   "outputs": [],
   "source": [
    "mp.dps = 100000  # number of digits\n",
    "len(str(mp.pi))\n",
    "mpmath_pi = Decimal(str(mp.pi))"
   ]
  },
  {
   "cell_type": "code",
   "execution_count": 50,
   "metadata": {},
   "outputs": [
    {
     "name": "stdout",
     "output_type": "stream",
     "text": [
      "9341076406\n"
     ]
    }
   ],
   "source": [
    "mp.dps = 140330\n",
    "print(str(mp.pi)[2:][140317:140317+10])"
   ]
  },
  {
   "cell_type": "code",
   "execution_count": null,
   "metadata": {},
   "outputs": [],
   "source": [
    "%timeit mp.dps=140330;print(str(mp.pi)[2:][140317:140317+10])"
   ]
  },
  {
   "cell_type": "markdown",
   "metadata": {},
   "source": [
    "### The Gauss–Legendre iterative algorithm\n",
    "\n",
    "<a href=\"https://en.wikipedia.org/wiki/Gauss%E2%80%93Legendre_algorithm\">here</a>"
   ]
  },
  {
   "cell_type": "code",
   "execution_count": 51,
   "metadata": {},
   "outputs": [],
   "source": [
    "import math\n",
    "\n",
    "def gauss_legendre_1(max_step):\n",
    "    \"\"\"Float number implementation of the Gauss-Legendre algorithm, for max_step steps.\"\"\"\n",
    "    a = 1.\n",
    "    b = 1./math.sqrt(2)\n",
    "    t = 1./4.0\n",
    "    p = 1.\n",
    "    for i in range(max_step):\n",
    "        at = (a + b) / 2.0\n",
    "        bt = math.sqrt(a*b)\n",
    "        tt = t - p*(a-at)**2\n",
    "        pt = 2.0 * p\n",
    "        a, b, t, p = at, bt, tt, pt\n",
    "\n",
    "    my_pi = ((a+b)**2)/(4.0*t)\n",
    "    return my_pi"
   ]
  },
  {
   "cell_type": "code",
   "execution_count": 16,
   "metadata": {},
   "outputs": [
    {
     "name": "stdout",
     "output_type": "stream",
     "text": [
      "pi is approximately: 3.141592653589794 (as a float number, precision is limited).\n",
      "Accuracy % with math.pi: 2.827e-14\n",
      "Accuracy % with mpmath_pi: 2.827e-14\n"
     ]
    }
   ],
   "source": [
    "my_pi = gauss_legendre_1(4)\n",
    "my_pi\n",
    "print(\"pi is approximately: {:.15f} (as a float number, precision is limited).\".format(my_pi))\n",
    "accuracy = 100*abs(math.pi - my_pi)/math.pi\n",
    "print(\"Accuracy % with math.pi: {:.4g}\".format(accuracy))\n",
    "accuracy = 100*abs(float(mpmath_pi) - my_pi)/float(mpmath_pi)\n",
    "print(\"Accuracy % with mpmath_pi: {:.4g}\".format(accuracy))"
   ]
  },
  {
   "cell_type": "code",
   "execution_count": 17,
   "metadata": {},
   "outputs": [
    {
     "name": "stdout",
     "output_type": "stream",
     "text": [
      "pi is approximately: 3.141592653589794 (as a float number, precision is limited).\n",
      "Accuracy % with math.pi: 2.827e-14\n",
      "Accuracy % with mpmath_pi: 2.827e-14\n"
     ]
    }
   ],
   "source": [
    "my_pi = gauss_legendre_1(40)\n",
    "my_pi\n",
    "print(\"pi is approximately: {:.15f} (as a float number, precision is limited).\".format(my_pi))\n",
    "accuracy = 100*abs(math.pi - my_pi)/math.pi\n",
    "print(\"Accuracy % with math.pi: {:.4g}\".format(accuracy))\n",
    "accuracy = 100*abs(float(mpmath_pi) - my_pi)/float(mpmath_pi)\n",
    "print(\"Accuracy % with mpmath_pi: {:.4g}\".format(accuracy))"
   ]
  },
  {
   "cell_type": "markdown",
   "metadata": {},
   "source": [
    "## Using decimal.Decimal to improve precision"
   ]
  },
  {
   "cell_type": "code",
   "execution_count": 18,
   "metadata": {},
   "outputs": [],
   "source": [
    "from decimal import Decimal, getcontext"
   ]
  },
  {
   "cell_type": "code",
   "execution_count": 19,
   "metadata": {},
   "outputs": [],
   "source": [
    "def gauss_legendre_2(max_step):\n",
    "    \"\"\"Decimal number implementation of the Gauss-Legendre algorithm, for max_step steps.\"\"\"\n",
    "    # trick to improve precision\n",
    "    getcontext().prec = 3 + 2**(max_step + 2)\n",
    "\n",
    "    cst_2 = Decimal(2.0)\n",
    "    cst_4 = Decimal(4.0)\n",
    "    a = Decimal(1.0)\n",
    "    b = Decimal(0.5).sqrt()\n",
    "    t = Decimal(0.25)\n",
    "    p = Decimal(1.0)\n",
    "\n",
    "    for i in range(max_step):\n",
    "        new_a = (a+b)/cst_2\n",
    "        new_b = (a*b).sqrt()\n",
    "        new_t = Decimal(t - p*(a - new_a)**2)\n",
    "        new_p = cst_2*p\n",
    "\n",
    "        a, b, t, p = new_a, new_b, new_t, new_p\n",
    "\n",
    "    my_pi = Decimal(((a+b)**2)/(cst_4*t))\n",
    "    return my_pi"
   ]
  },
  {
   "cell_type": "code",
   "execution_count": 20,
   "metadata": {},
   "outputs": [
    {
     "name": "stdout",
     "output_type": "stream",
     "text": [
      "pi is approximately: 3.14159265358979323846264338327950288419716939937510582097494459.\n",
      "Accuracy % with math.pi: 3.898e-15\n",
      "Accuracy % with mpmath_pi: 7.659e-83\n"
     ]
    }
   ],
   "source": [
    "my_pi = gauss_legendre_2(5)\n",
    "print(\"pi is approximately: {}.\".format(my_pi.to_eng_string()[:2**(5+1)]))\n",
    "\n",
    "accuracy = 100*abs(Decimal(math.pi) - my_pi)/Decimal(math.pi)\n",
    "print(\"Accuracy % with math.pi: {:.4g}\".format(accuracy))\n",
    "accuracy = 100*abs(mpmath_pi - my_pi)/mpmath_pi\n",
    "print(\"Accuracy % with mpmath_pi: {:.4g}\".format(accuracy))"
   ]
  },
  {
   "cell_type": "code",
   "execution_count": 21,
   "metadata": {},
   "outputs": [
    {
     "name": "stdout",
     "output_type": "stream",
     "text": [
      "8.15 µs ± 76.4 ns per loop (mean ± std. dev. of 7 runs, 100000 loops each)\n",
      "7.62 ms ± 80.5 µs per loop (mean ± std. dev. of 7 runs, 100 loops each)\n"
     ]
    }
   ],
   "source": [
    "%timeit gauss_legendre_1(8)\n",
    "%timeit gauss_legendre_2(8)"
   ]
  },
  {
   "cell_type": "markdown",
   "metadata": {},
   "source": [
    "### Methods based on a convergent series\n",
    "\n",
    "<a href=\"https://en.wikipedia.org/wiki/Leibniz_formula_for_%CF%80\">here</a>"
   ]
  },
  {
   "cell_type": "code",
   "execution_count": 22,
   "metadata": {},
   "outputs": [],
   "source": [
    "def leibniz(max_step):\n",
    "    \"\"\" Computing an approximation of pi with Leibniz series.\"\"\"\n",
    "    my_pi = Decimal(0)\n",
    "    for k in range(max_step):\n",
    "        my_pi += Decimal((-1)**k) / Decimal(2*k+1)\n",
    "    return Decimal(4) * my_pi"
   ]
  },
  {
   "cell_type": "code",
   "execution_count": 23,
   "metadata": {},
   "outputs": [
    {
     "name": "stdout",
     "output_type": "stream",
     "text": [
      "Accuracy % with mpmath_pi: 0.03183\n"
     ]
    }
   ],
   "source": [
    "getcontext().prec = 20  # trick to improve precision\n",
    "my_pi = leibniz(1000)\n",
    "my_pi\n",
    "\n",
    "accuracy = 100*abs(mpmath_pi - my_pi)/mpmath_pi\n",
    "print(\"Accuracy % with mpmath_pi: {:.4g}\".format(accuracy))"
   ]
  },
  {
   "cell_type": "code",
   "execution_count": 24,
   "metadata": {},
   "outputs": [
    {
     "name": "stdout",
     "output_type": "stream",
     "text": [
      "Accuracy % with mpmath_pi: 0.003183\n"
     ]
    }
   ],
   "source": [
    "getcontext().prec = 20  # trick to improve precision\n",
    "my_pi = leibniz(10000)\n",
    "my_pi\n",
    "\n",
    "accuracy = 100*abs(mpmath_pi - my_pi)/mpmath_pi\n",
    "print(\"Accuracy % with mpmath_pi: {:.4g}\".format(accuracy))"
   ]
  },
  {
   "cell_type": "markdown",
   "metadata": {},
   "source": [
    "### Bailey-Borwein-Plouffe series \n",
    "\n",
    "<a href=\"https://en.wikipedia.org/wiki/Bailey%E2%80%93Borwein%E2%80%93Plouffe_formula\">here</a>"
   ]
  },
  {
   "cell_type": "code",
   "execution_count": 25,
   "metadata": {},
   "outputs": [],
   "source": [
    "def bbp(max_step):\n",
    "    \"\"\" Computing an approximation of pi with Bailey-Borwein-Plouffe series.\"\"\"\n",
    "    my_pi = Decimal(0)\n",
    "    for k in range(max_step):\n",
    "        my_pi += (Decimal(1)/(16**k))*((Decimal(4)/(8*k+1))-(Decimal(2)/(8*k+4))-(Decimal(1)/(8*k+5))-(Decimal(1)/(8*k+6)))\n",
    "    return my_pi"
   ]
  },
  {
   "cell_type": "code",
   "execution_count": 26,
   "metadata": {},
   "outputs": [
    {
     "name": "stdout",
     "output_type": "stream",
     "text": [
      "Accuracy % with mpmath_pi: 6.659e-14\n"
     ]
    }
   ],
   "source": [
    "getcontext().prec = 20  # trick to improve precision\n",
    "my_pi = bbp(10)\n",
    "my_pi\n",
    "\n",
    "accuracy = 100*abs(mpmath_pi - my_pi)/mpmath_pi\n",
    "print(\"Accuracy % with mpmath_pi: {:.4g}\".format(accuracy))"
   ]
  },
  {
   "cell_type": "code",
   "execution_count": 27,
   "metadata": {},
   "outputs": [
    {
     "name": "stdout",
     "output_type": "stream",
     "text": [
      "Accuracy % with mpmath_pi: 8.417e-198\n"
     ]
    }
   ],
   "source": [
    "getcontext().prec = 200  # trick to improve precision\n",
    "my_pi = bbp(200)\n",
    "my_pi\n",
    "\n",
    "accuracy = 100*abs(mpmath_pi - my_pi)/mpmath_pi\n",
    "print(\"Accuracy % with mpmath_pi: {:.4g}\".format(accuracy))"
   ]
  },
  {
   "cell_type": "code",
   "execution_count": 28,
   "metadata": {},
   "outputs": [
    {
     "name": "stdout",
     "output_type": "stream",
     "text": [
      "Accuracy % with mpmath_pi: 8.600e-498\n"
     ]
    }
   ],
   "source": [
    "getcontext().prec = 500  # trick to improve precision\n",
    "my_pi = bbp(500)\n",
    "my_pi\n",
    "\n",
    "accuracy = 100*abs(mpmath_pi - my_pi)/mpmath_pi\n",
    "print(\"Accuracy % with mpmath_pi: {:.4g}\".format(accuracy))"
   ]
  },
  {
   "cell_type": "code",
   "execution_count": 29,
   "metadata": {},
   "outputs": [
    {
     "name": "stdout",
     "output_type": "stream",
     "text": [
      "108 ms ± 5.45 ms per loop (mean ± std. dev. of 7 runs, 10 loops each)\n",
      "721 ms ± 7.61 ms per loop (mean ± std. dev. of 7 runs, 1 loop each)\n"
     ]
    }
   ],
   "source": [
    "getcontext().prec = 10 + 1000  # trick to improve precision\n",
    "%timeit bbp(1000)\n",
    "\n",
    "getcontext().prec = 10 + 2000  # trick to improve precision\n",
    "%timeit bbp(2000)"
   ]
  },
  {
   "cell_type": "markdown",
   "metadata": {},
   "source": [
    "### Bellard's formula\n",
    "\n",
    "<a href=\"https://en.wikipedia.org/wiki/Bellard%27s_formula\">here</a>"
   ]
  },
  {
   "cell_type": "code",
   "execution_count": 30,
   "metadata": {},
   "outputs": [],
   "source": [
    "def bellard(max_step):\n",
    "    \"\"\" Computing an approximation of pi with Bellard series.\"\"\"\n",
    "    my_pi = Decimal(0)\n",
    "    for k in range(max_step):\n",
    "        my_pi += (Decimal(-1)**k/(1024**k))*( Decimal(256)/(10*k+1) + Decimal(1)/(10*k+9) - Decimal(64)/(10*k+3) - Decimal(32)/(4*k+1) - Decimal(4)/(10*k+5) - Decimal(4)/(10*k+7) -Decimal(1)/(4*k+3))\n",
    "    return my_pi * Decimal(1.0/(2**6))"
   ]
  },
  {
   "cell_type": "code",
   "execution_count": 31,
   "metadata": {},
   "outputs": [
    {
     "name": "stdout",
     "output_type": "stream",
     "text": [
      "Accuracy % with mpmath_pi: 4.090e-31\n"
     ]
    }
   ],
   "source": [
    "getcontext().prec = 40  # trick to improve precision\n",
    "my_pi = bellard(10)\n",
    "my_pi\n",
    "\n",
    "accuracy = 100*abs(mpmath_pi - my_pi)/mpmath_pi\n",
    "print(\"Accuracy % with mpmath_pi: {:.4g}\".format(accuracy))"
   ]
  },
  {
   "cell_type": "code",
   "execution_count": 32,
   "metadata": {},
   "outputs": [
    {
     "name": "stdout",
     "output_type": "stream",
     "text": [
      "Accuracy % with mpmath_pi: 2.220e-604\n"
     ]
    }
   ],
   "source": [
    "getcontext().prec = 800  # trick to improve precision\n",
    "my_pi = bellard(200)\n",
    "my_pi\n",
    "\n",
    "accuracy = 100*abs(mpmath_pi - my_pi)/mpmath_pi\n",
    "print(\"Accuracy % with mpmath_pi: {:.4g}\".format(accuracy))"
   ]
  },
  {
   "cell_type": "code",
   "execution_count": 33,
   "metadata": {},
   "outputs": [
    {
     "name": "stdout",
     "output_type": "stream",
     "text": [
      "281 ms ± 15.4 ms per loop (mean ± std. dev. of 7 runs, 1 loop each)\n",
      "2.04 s ± 2.57 ms per loop (mean ± std. dev. of 7 runs, 1 loop each)\n"
     ]
    }
   ],
   "source": [
    "getcontext().prec = 10 + 1000  # trick to improve precision\n",
    "%timeit bellard(1000)\n",
    "\n",
    "getcontext().prec = 10 + 2000  # trick to improve precision\n",
    "%timeit bellard(2000)"
   ]
  },
  {
   "cell_type": "markdown",
   "metadata": {},
   "source": [
    "### One Ramanujan's formula\n",
    "\n",
    "<a href=\"https://en.wikipedia.org/wiki/Approximations_of_%CF%80#Efficient_methods\">here</a>"
   ]
  },
  {
   "cell_type": "code",
   "execution_count": 34,
   "metadata": {},
   "outputs": [],
   "source": [
    "from math import factorial\n",
    "\n",
    "def ramanujan(max_step):\n",
    "    \"\"\" Computing an approximation of pi with a Ramanujan's formula.\"\"\"\n",
    "    my_pi = Decimal(0)\n",
    "    d_1103 = Decimal(1103)\n",
    "    d_26390 = Decimal(26390)\n",
    "    d_396 = Decimal(396)\n",
    "    for k in range(max_step):\n",
    "        my_pi += ((Decimal(factorial(4 * k))) * (d_1103 + d_26390 * Decimal(k))) / ( (Decimal(factorial(k)))**4 * (d_396**(4*k)))\n",
    "    my_pi = my_pi * 2 * Decimal(2).sqrt() / Decimal(9801)\n",
    "    my_pi = my_pi**(-1)\n",
    "    return my_pi"
   ]
  },
  {
   "cell_type": "code",
   "execution_count": 36,
   "metadata": {},
   "outputs": [
    {
     "name": "stdout",
     "output_type": "stream",
     "text": [
      "Accuracy % with mpmath_pi: 1.668e-30\n"
     ]
    }
   ],
   "source": [
    "getcontext().prec = 40  # trick to improve precision\n",
    "my_pi = ramanujan(4)\n",
    "my_pi\n",
    "\n",
    "accuracy = 100*abs(mpmath_pi - my_pi)/mpmath_pi\n",
    "print(\"Accuracy % with mpmath_pi: {:.4g}\".format(accuracy))"
   ]
  },
  {
   "cell_type": "code",
   "execution_count": 37,
   "metadata": {},
   "outputs": [
    {
     "name": "stdout",
     "output_type": "stream",
     "text": [
      "Accuracy % with mpmath_pi: 2.382e-318\n"
     ]
    }
   ],
   "source": [
    "getcontext().prec = 400  # trick to improve precision\n",
    "my_pi = ramanujan(40)\n",
    "my_pi\n",
    "\n",
    "accuracy = 100*abs(mpmath_pi - my_pi)/mpmath_pi\n",
    "print(\"Accuracy % with mpmath_pi: {:.4g}\".format(accuracy))"
   ]
  },
  {
   "cell_type": "code",
   "execution_count": 40,
   "metadata": {},
   "outputs": [
    {
     "name": "stdout",
     "output_type": "stream",
     "text": [
      "3.1415926535897932384626433832795028841971693993751058209749445923078164062862089986280348253421170679821480865132823066470938446095505822317253594081284811174502841027019385211055596446229489549303819644288109756659334461284756482337867831652712019091456485669234603486104543266482133936072602491412737245870066063155881748815209209628292540917153643678925903600113305305488204665213841469519415116094330572703657595919530921861173819326117931051185480744623799627495673518857527248912279381830119491298336733624406566430860213949463952247371907021798609437027705392171762931767523846748184676694051320005681271452635608277857713427577896091736371787214684409012249534301465495853710507922796892589235420199561121290219608640344181598136297747713099605187072113499999983729780499510597317328160963185950244594553469083026425223082533446850352619311881710100031378387528865875332083814206171776691473035982534904287554687311595628638823537875937519577818577805321712268066130019278766111959092164201989380952572010654858632788659361533818279682303019520353018529689957736225994138912497217752834791315155748572424541506959508295331168617278558890750983817546374649393192550604009277016711390098488240128583616035637076601047101819429555961989467678374494482553797747268471040475346462080466842590694912933136770289891521047521620569660240580381501935112533824300355876402474964732639141992726042699227967823547816360093417216412199245863150302861829745557067498385054945885869269956909272107975093029553211653449872027559602364806654991198818347977535663698074265425278625518184175746728909777727940092593679577412880114072520662452344498309284389026310583057432459663517241665671357564259409181627161036619398380266804323123256475817186916514676524019320976885611753635255011894984447618075599914209997043044425803288826839697424724950586712681051712136647565220069328838660790206792014356556715545181106432983263815336472301873472006826126207435983354628153181952126467499415321188698738323941189429\n",
      "Accuracy % with mpmath_pi: 6.658e-1596\n"
     ]
    }
   ],
   "source": [
    "getcontext().prec = 2000  # trick to improve precision\n",
    "my_pi = ramanujan(200)\n",
    "print(my_pi)\n",
    "\n",
    "accuracy = 100*abs(mpmath_pi - my_pi)/mpmath_pi\n",
    "print(\"Accuracy % with mpmath_pi: {:.4g}\".format(accuracy))"
   ]
  },
  {
   "cell_type": "code",
   "execution_count": null,
   "metadata": {},
   "outputs": [],
   "source": []
  }
 ],
 "metadata": {
  "kernelspec": {
   "display_name": "Python 3",
   "language": "python",
   "name": "python3"
  },
  "language_info": {
   "codemirror_mode": {
    "name": "ipython",
    "version": 3
   },
   "file_extension": ".py",
   "mimetype": "text/x-python",
   "name": "python",
   "nbconvert_exporter": "python",
   "pygments_lexer": "ipython3",
   "version": "3.6.9"
  }
 },
 "nbformat": 4,
 "nbformat_minor": 4
}
